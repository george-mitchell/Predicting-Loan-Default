{
 "cells": [
  {
   "cell_type": "markdown",
   "metadata": {},
   "source": [
    "# Predicting Loan Default\n",
    "\n",
    "We build a classifier to predict the probability of default for a given loan. We use loan data obtained by Lending Club from 2007-2017, which can be found on Kaggle.\n",
    "\n",
    "The dataset contains 150 explanatory variables for which we will use feature selection.\n",
    "\n",
    "## Packages"
   ]
  },
  {
   "cell_type": "code",
   "execution_count": 1,
   "metadata": {},
   "outputs": [],
   "source": [
    "import polars as pl \n",
    "import numpy as np \n",
    "import optuna \n",
    "import plotly\n",
    "import plotly.express as px\n",
    "\n",
    "## get file path of the data\n",
    "from private import FILE_PATH"
   ]
  },
  {
   "cell_type": "markdown",
   "metadata": {},
   "source": [
    "## Data"
   ]
  },
  {
   "cell_type": "code",
   "execution_count": 2,
   "metadata": {},
   "outputs": [],
   "source": [
    "## load file\n",
    "loans = pl.read_csv(FILE_PATH, ignore_errors=True)\n",
    "\n",
    "## drop those that have null id \n",
    "loans = loans.drop_nulls(subset=[\"id\"])"
   ]
  },
  {
   "cell_type": "markdown",
   "metadata": {},
   "source": [
    "## Cleaning and Feature Elimination\n",
    "\n",
    "Giving the large number of features, we will perform signifcant feature elimination. We use the following methodology: \n",
    "\n",
    "1. Eliminate features with more that 25% missing values. \n",
    "2. Eliminate features with low correlation with the predicted variable. "
   ]
  },
  {
   "cell_type": "code",
   "execution_count": 4,
   "metadata": {},
   "outputs": [],
   "source": [
    "## define the default category we will predict\n",
    "default_categories = ['Default', \n",
    "                      'Charged Off', \n",
    "                      'Does not meet the credit policy. Status:Charged Off']\n",
    "loans = loans.with_columns(\n",
    "    (pl.col(\"loan_status\")\n",
    "     .is_in(default_categories)\n",
    "     .map_elements(np.uint8)\n",
    "     .alias(\"default\"))\n",
    ")\n",
    "loans = loans.drop(\"loan_status\")"
   ]
  }
 ],
 "metadata": {
  "kernelspec": {
   "display_name": "DataScience",
   "language": "python",
   "name": "python3"
  },
  "language_info": {
   "codemirror_mode": {
    "name": "ipython",
    "version": 3
   },
   "file_extension": ".py",
   "mimetype": "text/x-python",
   "name": "python",
   "nbconvert_exporter": "python",
   "pygments_lexer": "ipython3",
   "version": "3.11.3"
  }
 },
 "nbformat": 4,
 "nbformat_minor": 2
}
