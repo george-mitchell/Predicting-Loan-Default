{
 "cells": [
  {
   "cell_type": "markdown",
   "metadata": {},
   "source": [
    "# Predicting Loan Default 3 - Models\n",
    "\n",
    "In this notebook we perform model fitting, evaluation and selection. \n",
    "\n",
    "## Packages"
   ]
  },
  {
   "cell_type": "code",
   "execution_count": 1,
   "metadata": {},
   "outputs": [],
   "source": [
    "## data handling \n",
    "import numpy as np \n",
    "import pandas as pd\n",
    "import polars as pl \n",
    "import polars.selectors as cs\n",
    "\n",
    "## parameter tuning\n",
    "import optuna \n",
    "optuna.logging.set_verbosity(optuna.logging.WARNING)\n",
    "\n",
    "## visualization\n",
    "import matplotlib.pyplot as plt\n",
    "import seaborn as sns\n",
    "import plotly\n",
    "import plotly.express as px\n",
    "\n",
    "## sklearn models\n",
    "from sklearn.model_selection import StratifiedKFold\n",
    "from sklearn.linear_model import LogisticRegression\n",
    "from sklearn.tree import DecisionTreeClassifier\n",
    "from sklearn.neighbors import KNeighborsClassifier\n",
    "from sklearn.naive_bayes import GaussianNB\n",
    "from sklearn.neural_network import MLPClassifier\n",
    "from sklearn.ensemble import AdaBoostClassifier, GradientBoostingClassifier, RandomForestClassifier\n",
    "from sklearn.metrics import classification_report, confusion_matrix, accuracy_score\n",
    "from sklearn.model_selection import cross_val_score\n",
    "\n",
    "## pickle \n",
    "from pickle import dump, load\n",
    "\n",
    "## get file path of the data\n",
    "from private import FINAL_FILE_PATH"
   ]
  },
  {
   "cell_type": "markdown",
   "metadata": {},
   "source": [
    "## Data"
   ]
  },
  {
   "cell_type": "code",
   "execution_count": 2,
   "metadata": {},
   "outputs": [],
   "source": [
    "## load datasets\n",
    "X_train = pd.read_csv(FINAL_FILE_PATH + \"X_train.csv\", index_col=0)\n",
    "X_test = pd.read_csv(FINAL_FILE_PATH + \"X_test.csv\", index_col=0)\n",
    "y_train = pd.read_csv(FINAL_FILE_PATH + \"y_train.csv\", index_col=0)\n",
    "y_test = pd.read_csv(FINAL_FILE_PATH + \"y_test.csv\", index_col=0)"
   ]
  },
  {
   "cell_type": "markdown",
   "metadata": {},
   "source": [
    "## Models"
   ]
  },
  {
   "cell_type": "markdown",
   "metadata": {},
   "source": [
    "### Model Evaluation \n",
    "\n",
    "Due to the imbalanced nature of our `default` feature, we must carefully consider our metric. As false negatives (borrowers who default but who were predicted to not default) are much more costly to investors than false positives (borrowers who don't default but who were predicted to default), we will make use of recall as a metric, as well as the area under the ROC curve. \n",
    "\n",
    "### Model Selection \n",
    "\n",
    "We will use 3-fold cross validation on a large number of models with default parameters. This will help gauge which type of model may be performing best. We will then select the best performing model for hyperparameter tuning. "
   ]
  },
  {
   "cell_type": "code",
   "execution_count": 5,
   "metadata": {},
   "outputs": [],
   "source": [
    "models = []\n",
    "\n",
    "## baseline models \n",
    "models.append(('LR', LogisticRegression(max_iter=10000)))\n",
    "models.append(('KNN', KNeighborsClassifier()))\n",
    "models.append(('CART', DecisionTreeClassifier()))\n",
    "models.append(('NB', GaussianNB()))\n",
    "## ensemble models \n",
    "models.append(('RF', RandomForestClassifier()))\n",
    "## boosting models \n",
    "models.append(('GBM', GradientBoostingClassifier()))\n",
    "models.append(('AB', AdaBoostClassifier(algorithm=\"SAMME\")))\n",
    "## neural networks\n",
    "models.append(('NN', MLPClassifier()))"
   ]
  },
  {
   "cell_type": "code",
   "execution_count": 4,
   "metadata": {},
   "outputs": [
    {
     "name": "stdout",
     "output_type": "stream",
     "text": [
      "LR: 0.8734 (0.000921)\n",
      "KNN: 0.83 (0.000809)\n",
      "CART: 0.8754 (0.00106)\n",
      "NB: 0.822 (0.001115)\n",
      "RF: 0.8961 (0.000562)\n",
      "GBM: 0.8958 (0.000408)\n",
      "AB: 0.8786 (0.001366)\n",
      "NN: 0.8954 (0.001303)\n"
     ]
    }
   ],
   "source": [
    "results = []\n",
    "names = []\n",
    "\n",
    "kfold = StratifiedKFold(n_splits=5)\n",
    "for name, model in models :\n",
    "    cv_results = cross_val_score(model, \n",
    "                                 X_train, \n",
    "                                 y_train.values.ravel(),\n",
    "                                 cv=kfold, \n",
    "                                 scoring='accuracy')\n",
    "    results.append(cv_results)\n",
    "    names.append(name)\n",
    "    print(f\"{name}: {round(cv_results.mean(), 4)} ({round(cv_results.std(), 6)})\")"
   ]
  },
  {
   "cell_type": "markdown",
   "metadata": {},
   "source": [
    "Save the results so they can be loaded later. "
   ]
  },
  {
   "cell_type": "code",
   "execution_count": 5,
   "metadata": {},
   "outputs": [],
   "source": [
    "cv_scores = {name:result for (name,result) in zip(names,results)}\n",
    "dump(cv_scores, open(\"../models/cv_scores.p\", \"wb\"))"
   ]
  },
  {
   "cell_type": "code",
   "execution_count": 3,
   "metadata": {},
   "outputs": [],
   "source": [
    "cv_scores = load(open(\"../models/cv_scores.p\", \"rb\" ))"
   ]
  },
  {
   "cell_type": "markdown",
   "metadata": {},
   "source": [
    "We plot the results for each model below: "
   ]
  },
  {
   "cell_type": "code",
   "execution_count": 12,
   "metadata": {},
   "outputs": [
    {
     "data": {
      "text/plain": [
       "<Axes: >"
      ]
     },
     "execution_count": 12,
     "metadata": {},
     "output_type": "execute_result"
    },
    {
     "data": {
      "image/png": "[encoded data removed]",
      "text/plain": [
       "<Figure size 640x480 with 1 Axes>"
      ]
     },
     "metadata": {},
     "output_type": "display_data"
    }
   ],
   "source": [
    "scores = pd.DataFrame(cv_scores)\n",
    "sns.violinplot(scores)"
   ]
  },
  {
   "cell_type": "markdown",
   "metadata": {},
   "source": [
    "We see that on default parameters, `RF`, `GBM` and `NN` performed the best. We will therefore tune hyperparameters for these three models. \n",
    "\n",
    "## Hyperparameter Tuning \n",
    "\n",
    "We use optuna to find the best hyperparameters for the random forest, gradient boosted and neural network models. To use optuna, we create an objective wrapper function which will then be minimized. \n",
    "\n",
    "### Random Forest"
   ]
  },
  {
   "cell_type": "code",
   "execution_count": 3,
   "metadata": {},
   "outputs": [],
   "source": [
    "def rf_objective(trial):\n",
    "    rf_n_estimators = trial.suggest_int(\"rf_n_estimators\", 50, 200, log=True)\n",
    "    classifier_obj = RandomForestClassifier(n_estimators=rf_n_estimators,\n",
    "                                            max_depth=24)\n",
    "    score = cross_val_score(classifier_obj, \n",
    "                            X_train, \n",
    "                            y_train.values.ravel(), \n",
    "                            n_jobs=8, \n",
    "                            cv=3)\n",
    "    accuracy = score.mean()\n",
    "    return accuracy"
   ]
  },
  {
   "cell_type": "code",
   "execution_count": 4,
   "metadata": {},
   "outputs": [
    {
     "data": {
      "application/vnd.jupyter.widget-view+json": {
       "model_id": "7b8a2e9f126e443287ec2921c29a1657",
       "version_major": 2,
       "version_minor": 0
      },
      "text/plain": [
       "  0%|          | 0/20 [00:00<?, ?it/s]"
      ]
     },
     "metadata": {},
     "output_type": "display_data"
    },
    {
     "name": "stderr",
     "output_type": "stream",
     "text": [
      "/home/george/anaconda3/envs/DataScience/lib/python3.11/site-packages/joblib/externals/loky/process_executor.py:700: UserWarning: A worker stopped while some jobs were given to the executor. This can be caused by a too short worker timeout or by a memory leak.\n",
      "  warnings.warn(\n",
      "/home/george/anaconda3/envs/DataScience/lib/python3.11/site-packages/joblib/externals/loky/process_executor.py:700: UserWarning: A worker stopped while some jobs were given to the executor. This can be caused by a too short worker timeout or by a memory leak.\n",
      "  warnings.warn(\n",
      "/home/george/anaconda3/envs/DataScience/lib/python3.11/site-packages/joblib/externals/loky/process_executor.py:700: UserWarning: A worker stopped while some jobs were given to the executor. This can be caused by a too short worker timeout or by a memory leak.\n",
      "  warnings.warn(\n",
      "/home/george/anaconda3/envs/DataScience/lib/python3.11/site-packages/joblib/externals/loky/process_executor.py:700: UserWarning: A worker stopped while some jobs were given to the executor. This can be caused by a too short worker timeout or by a memory leak.\n",
      "  warnings.warn(\n"
     ]
    },
    {
     "name": "stdout",
     "output_type": "stream",
     "text": [
      "FrozenTrial(number=16, state=1, values=[0.8963857115489811], datetime_start=datetime.datetime(2024, 4, 29, 17, 51, 37, 183819), datetime_complete=datetime.datetime(2024, 4, 29, 18, 7, 30, 821264), params={'rf_n_estimators': 185}, user_attrs={}, system_attrs={}, intermediate_values={}, distributions={'rf_n_estimators': IntDistribution(high=200, log=True, low=50, step=1)}, trial_id=16, value=None)\n",
      "{'rf_n_estimators': 185}\n"
     ]
    }
   ],
   "source": [
    "rf_study = optuna.create_study(direction=\"maximize\", study_name=\"RF_study\")\n",
    "rf_study.optimize(rf_objective, n_trials=20, n_jobs=8, show_progress_bar=True)\n",
    "print(rf_study.best_trial)\n",
    "print(rf_study.best_params)"
   ]
  },
  {
   "cell_type": "code",
   "execution_count": 5,
   "metadata": {},
   "outputs": [],
   "source": [
    "dump(rf_study.best_params, open(\"../models/rf_params.p\", \"wb\"))"
   ]
  },
  {
   "cell_type": "markdown",
   "metadata": {},
   "source": [
    "### Gradient Boosted Model"
   ]
  },
  {
   "cell_type": "code",
   "execution_count": 3,
   "metadata": {},
   "outputs": [],
   "source": [
    "def gbm_objective(trial):\n",
    "    gbm_max_depth = trial.suggest_int(\"gbm_max_depth\", 1, 8, log=True)\n",
    "    gbm_n_estimators = trial.suggest_int(\"gbm_n_estimators\", 50, 200)\n",
    "    gbm_learning_rate = trial.suggest_float(\"gbm_learning_rate\", 0.1, 1, \n",
    "                                                log=True)\n",
    "    classifier_obj = GradientBoostingClassifier(max_depth=gbm_max_depth,\n",
    "                                                    n_estimators=gbm_n_estimators,\n",
    "                                                    learning_rate=gbm_learning_rate)\n",
    "    score = cross_val_score(classifier_obj, \n",
    "                            X_train, \n",
    "                            y_train.values.ravel(), \n",
    "                            n_jobs=8, \n",
    "                            cv=3)\n",
    "    accuracy = score.mean()\n",
    "    return accuracy"
   ]
  },
  {
   "cell_type": "code",
   "execution_count": 4,
   "metadata": {},
   "outputs": [
    {
     "data": {
      "application/vnd.jupyter.widget-view+json": {
       "model_id": "f7c0c8e166fe4ba8a7561a63780f466b",
       "version_major": 2,
       "version_minor": 0
      },
      "text/plain": [
       "  0%|          | 0/20 [00:00<?, ?it/s]"
      ]
     },
     "metadata": {},
     "output_type": "display_data"
    },
    {
     "name": "stdout",
     "output_type": "stream",
     "text": [
      "FrozenTrial(number=3, state=1, values=[0.9267513710348861], datetime_start=datetime.datetime(2024, 4, 29, 18, 48, 1, 459625), datetime_complete=datetime.datetime(2024, 4, 29, 19, 28, 22, 173838), params={'gbm_max_depth': 8, 'gbm_n_estimators': 108, 'gbm_learning_rate': 0.4829411509554302}, user_attrs={}, system_attrs={}, intermediate_values={}, distributions={'gbm_max_depth': IntDistribution(high=8, log=True, low=1, step=1), 'gbm_n_estimators': IntDistribution(high=200, log=False, low=50, step=1), 'gbm_learning_rate': FloatDistribution(high=1.0, log=True, low=0.1, step=None)}, trial_id=3, value=None)\n",
      "{'gbm_max_depth': 8, 'gbm_n_estimators': 108, 'gbm_learning_rate': 0.4829411509554302}\n"
     ]
    }
   ],
   "source": [
    "gbm_study = optuna.create_study(direction=\"maximize\", study_name=\"RF_study\")\n",
    "gbm_study.optimize(gbm_objective, n_trials=20, n_jobs=8, show_progress_bar=True)\n",
    "print(gbm_study.best_trial)\n",
    "print(gbm_study.best_params)"
   ]
  },
  {
   "cell_type": "code",
   "execution_count": 5,
   "metadata": {},
   "outputs": [],
   "source": [
    "dump(gbm_study.best_params, open(\"../models/gbm_params.p\", \"wb\"))"
   ]
  },
  {
   "cell_type": "markdown",
   "metadata": {},
   "source": [
    "### Multi-Layer Perceptron Model"
   ]
  },
  {
   "cell_type": "code",
   "execution_count": null,
   "metadata": {},
   "outputs": [],
   "source": [
    "def nn_objective(trial):\n",
    "    nn_hlayer_sizes = trial.suggest_int(\"nn_hlayer_sizes\", 10, 100)\n",
    "    nn_n_layers = trial.suggest_int(\"nn_n_layers\", 1, 5)\n",
    "    nn_hidden_layer_sizes = [nn_hlayer_sizes]*nn_n_layers\n",
    "    classifier_obj = MLPClassifier(hidden_layer_sizes=nn_hidden_layer_sizes)\n",
    "    \n",
    "    score = cross_val_score(classifier_obj, \n",
    "                            X_train, \n",
    "                            y_train.values.ravel(), \n",
    "                            n_jobs=8, \n",
    "                            cv=3)\n",
    "    accuracy = score.mean()\n",
    "    return accuracy"
   ]
  },
  {
   "cell_type": "code",
   "execution_count": null,
   "metadata": {},
   "outputs": [],
   "source": [
    "nn_study = optuna.create_study(direction=\"maximize\", study_name=\"RF_study\")\n",
    "nn_study.optimize(nn_objective, n_trials=20, n_jobs=8, show_progress_bar=True)\n",
    "print(nn_study.best_trial)\n",
    "print(nn_study.best_params)"
   ]
  },
  {
   "cell_type": "code",
   "execution_count": null,
   "metadata": {},
   "outputs": [],
   "source": [
    "dump(nn_study.best_params, open(\"../models/nn_params.p\", \"wb\"))"
   ]
  }
 ],
 "metadata": {
  "kernelspec": {
   "display_name": "DataScience",
   "language": "python",
   "name": "python3"
  },
  "language_info": {
   "codemirror_mode": {
    "name": "ipython",
    "version": 3
   },
   "file_extension": ".py",
   "mimetype": "text/x-python",
   "name": "python",
   "nbconvert_exporter": "python",
   "pygments_lexer": "ipython3",
   "version": "3.11.3"
  }
 },
 "nbformat": 4,
 "nbformat_minor": 2
}
